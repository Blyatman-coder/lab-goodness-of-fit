{
 "cells": [
  {
   "cell_type": "markdown",
   "metadata": {},
   "source": [
    "## Question 1\n",
    "A researcher gathers information about the patterns of Physical Activity of children in the fifth grade of primary school of a public school. He defines three categories of physical activity (Low, Medium, High). He also inquires about the regular consumption of sugary drinks at school, and defines two categories (Yes = consumed, No = not consumed). We would like to evaluate if there is an association between patterns of physical activity and the consumption of sugary drinks for the children of this school, at a level of 5% significance. The results are in the following table: \n",
    "\n",
    "![](table4.png)"
   ]
  },
  {
   "cell_type": "code",
   "execution_count": 3,
   "metadata": {},
   "outputs": [],
   "source": [
    "# your answer here\n",
    "\n",
    "import scipy.stats as st\n",
    "import numpy as np\n",
    "\n",
    "table = [[32,12],\n",
    "         [14,22],\n",
    "         [6,9],]"
   ]
  },
  {
   "cell_type": "code",
   "execution_count": 4,
   "metadata": {},
   "outputs": [
    {
     "data": {
      "text/plain": [
       "Chi2ContingencyResult(statistic=10.712198008709638, pvalue=0.004719280137040844, dof=2, expected_freq=array([[24.08421053, 19.91578947],\n",
       "       [19.70526316, 16.29473684],\n",
       "       [ 8.21052632,  6.78947368]]))"
      ]
     },
     "execution_count": 4,
     "metadata": {},
     "output_type": "execute_result"
    }
   ],
   "source": [
    "st.chi2_contingency(table)"
   ]
  },
  {
   "cell_type": "code",
   "execution_count": null,
   "metadata": {},
   "outputs": [],
   "source": [
    "\"\"\"\n",
    "\n",
    "pvalue=0.004719280137040844 which is lower than our significance level of 0.05 or 5%\n",
    "\n",
    "that means there is no association between patterns of physical activity and the consumption\n",
    "\n",
    "of sugary drinks for the children of this school\n",
    "\n",
    "\"\"\""
   ]
  },
  {
   "cell_type": "markdown",
   "metadata": {},
   "source": [
    "## [OPTIONAL] Question 2\n",
    "The following table indicates the number of 6-point scores in an American rugby match in the 1979 season.\n",
    "\n",
    "![](table1.png)\n",
    "\n",
    "Based on these results, we create a Poisson distribution with the sample mean parameter  = 2.435. Is there any reason to believe that at a .05 level the number of scores is a Poisson variable?\n",
    "\n",
    "Check [here](https://www.geeksforgeeks.org/how-to-create-a-poisson-probability-mass-function-plot-in-python/) how to create a poisson distribution and how to calculate the expected observations, using the probability mass function (pmf). \n",
    "A Poisson distribution is a discrete probability distribution. It gives the probability of an event happening a certain number of times (k) within a given interval of time or space. The Poisson distribution has only one parameter, λ (lambda), which is the mean number of events."
   ]
  },
  {
   "cell_type": "code",
   "execution_count": 6,
   "metadata": {},
   "outputs": [
    {
     "name": "stdout",
     "output_type": "stream",
     "text": [
      "Observed Frequencies: [ 35  99 104 110  62  25  10   3]\n",
      "Expected Frequencies: [ 39.24379068  95.5586303  116.34263239  94.43143662  57.48513704\n",
      "  27.99526174  11.36141039   5.58170083]\n",
      "Chi-Square Statistic: 6.49\n",
      "Degrees of Freedom: 7\n",
      "Critical Value: 14.07\n",
      "We fail to reject the null hypothesis: The number of scores could follow a Poisson distribution.\n"
     ]
    }
   ],
   "source": [
    "# your answer here\n",
    "from scipy.stats import poisson, chi2\n",
    "\n",
    "# Given data\n",
    "observed_frequencies = np.array([35, 99, 104, 110, 62, 25, 10, 3])\n",
    "categories = np.arange(len(observed_frequencies))\n",
    "\n",
    "# Poisson distribution parameter\n",
    "lambda_ = 2.435\n",
    "\n",
    "# Calculate expected frequencies\n",
    "expected_frequencies = np.array([\n",
    "    poisson.pmf(k, lambda_) * sum(observed_frequencies) for k in categories\n",
    "])\n",
    "\n",
    "# For 7 or more\n",
    "expected_frequencies[-1] = 1 - poisson.cdf(6, lambda_)\n",
    "expected_frequencies[-1] *= sum(observed_frequencies)\n",
    "\n",
    "# Chi-Square test\n",
    "chi2_stat = np.sum((observed_frequencies - expected_frequencies) ** 2 / expected_frequencies)\n",
    "df = len(observed_frequencies) - 1  # degrees of freedom\n",
    "\n",
    "# Critical value for 0.05 significance level\n",
    "alpha = 0.05\n",
    "critical_value = chi2.ppf(1 - alpha, df)\n",
    "\n",
    "# Output results\n",
    "print(f\"Observed Frequencies: {observed_frequencies}\")\n",
    "print(f\"Expected Frequencies: {expected_frequencies}\")\n",
    "print(f\"Chi-Square Statistic: {chi2_stat:.2f}\")\n",
    "print(f\"Degrees of Freedom: {df}\")\n",
    "print(f\"Critical Value: {critical_value:.2f}\")\n",
    "\n",
    "if chi2_stat > critical_value:\n",
    "    print(\"Reject the null hypothesis: The number of scores does not follow a Poisson distribution.\")\n",
    "else:\n",
    "    print(\"We fail to reject the null hypothesis: The number of scores could follow a Poisson distribution.\")"
   ]
  },
  {
   "cell_type": "code",
   "execution_count": null,
   "metadata": {},
   "outputs": [],
   "source": []
  }
 ],
 "metadata": {
  "kernelspec": {
   "display_name": "Python 3 (ipykernel)",
   "language": "python",
   "name": "python3"
  },
  "language_info": {
   "codemirror_mode": {
    "name": "ipython",
    "version": 3
   },
   "file_extension": ".py",
   "mimetype": "text/x-python",
   "name": "python",
   "nbconvert_exporter": "python",
   "pygments_lexer": "ipython3",
   "version": "3.11.5"
  }
 },
 "nbformat": 4,
 "nbformat_minor": 2
}
